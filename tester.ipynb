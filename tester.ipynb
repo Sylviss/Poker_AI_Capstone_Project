{
 "cells": [
  {
   "cell_type": "code",
   "execution_count": 1,
   "metadata": {},
   "outputs": [],
   "source": [
    "from collections import defaultdict\n",
    "from poker_ai.poker.play import fast_testing,game_but_cheaty\n",
    "import sys,os\n",
    "from test import main\n",
    "# Disable print\n",
    "def blockPrint():\n",
    "    sys.stdout = open(os.devnull, 'w', encoding=\"utf-8\")\n",
    "\n",
    "# Restore print\n",
    "def enablePrint():\n",
    "    sys.stdout = sys.__stdout__\n",
    "\n",
    "def test_win_rate(n):\n",
    "    try:\n",
    "        d = defaultdict(lambda: 0)\n",
    "        for t in range(n):\n",
    "            # blockPrint()\n",
    "            d[fast_testing(2,1000,[2,1])] += 1\n",
    "            # enablePrint()\n",
    "            print(t)\n",
    "        for key in d:\n",
    "            print(f'{key}: {d[key]}')\n",
    "    except KeyboardInterrupt:\n",
    "        sys.exit()\n",
    "        \n",
    "def test_hacker():\n",
    "    try:\n",
    "        game_but_cheaty(2,2000,[\"4s\",\"4d\",\"Ad\",\"As\",\"10s\",\"10d\",\"Ac\",\"4h\",\"4c\"])\n",
    "        # game_but_cheaty(2,500,[\"Ad\",\"As\",\"4s\",\"4d\",\"10s\",\"10d\",\"Ac\",\"4h\",\"4c\"])\n",
    "    except KeyboardInterrupt:\n",
    "        sys.exit()\n",
    "        \n",
    "def test_single_game():\n",
    "    test_hacker()\n",
    "    \n",
    "def test_module():\n",
    "    fast_testing(2,100,[1,-1])\n",
    "    \n",
    "    \n",
    "def training(n):\n",
    "    if n==2:\n",
    "        hehe=[1,-1]\n",
    "    elif n==4:\n",
    "        hehe=[1,0,-1,-1]\n",
    "    else:\n",
    "        hehe=[1,0,-1,1,-1,0]\n",
    "    while True:\n",
    "        fast_testing(n,1000,hehe)\n",
    "        print(main()) \n"
   ]
  },
  {
   "cell_type": "code",
   "execution_count": null,
   "metadata": {},
   "outputs": [],
   "source": [
    "training(2)"
   ]
  }
 ],
 "metadata": {
  "kernelspec": {
   "display_name": "Python 3",
   "language": "python",
   "name": "python3"
  },
  "language_info": {
   "codemirror_mode": {
    "name": "ipython",
    "version": 3
   },
   "file_extension": ".py",
   "mimetype": "text/x-python",
   "name": "python",
   "nbconvert_exporter": "python",
   "pygments_lexer": "ipython3",
   "version": "3.11.7"
  }
 },
 "nbformat": 4,
 "nbformat_minor": 2
}
